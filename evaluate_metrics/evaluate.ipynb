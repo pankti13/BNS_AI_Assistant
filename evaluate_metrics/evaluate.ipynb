{
 "cells": [
  {
   "cell_type": "code",
   "execution_count": 47,
   "id": "804c8769",
   "metadata": {},
   "outputs": [],
   "source": [
    "import pandas as pd\n",
    "import numpy as np\n",
    "from tqdm.notebook import tqdm\n",
    "import matplotlib.pyplot as plt\n",
    "import sys\n",
    "import os"
   ]
  },
  {
   "cell_type": "code",
   "execution_count": 48,
   "id": "168a5120",
   "metadata": {},
   "outputs": [],
   "source": [
    "parent_dir = os.path.abspath(os.path.join(os.getcwd(), os.pardir))\n",
    "sys.path.insert(0, parent_dir)\n",
    "from services.scenario_service import ScenarioService"
   ]
  },
  {
   "cell_type": "code",
   "execution_count": 49,
   "id": "b9909b39",
   "metadata": {},
   "outputs": [],
   "source": [
    "test_df = pd.read_csv('test_data/test_scenarios.csv')    \n",
    "test_df['text_length'] = test_df['text'].apply(len)\n",
    "test_df = test_df.sort_values(by='text_length', ascending=True)\n",
    "test_df = test_df[test_df['text_length'] >= 1000]\n",
    "test_df = test_df.head(10)"
   ]
  },
  {
   "cell_type": "code",
   "execution_count": 50,
   "id": "9aef3693",
   "metadata": {},
   "outputs": [],
   "source": [
    "ipc_to_bns = {}\n",
    "with open(\"test_data/ipc_bns_mapping.csv\", mode=\"r\", encoding=\"utf-8\") as f:\n",
    "    import csv\n",
    "    reader = csv.DictReader(f)\n",
    "    for row in reader:\n",
    "        ipc = row[\"IPC\"].strip()\n",
    "        bns = row[\"BNS\"].strip()\n",
    "        ipc_to_bns[ipc] = bns\n",
    "\n",
    "def dcg_at_k(relevance_scores, k):\n",
    "    return sum(rel / np.log2(idx + 2) for idx, rel in enumerate(relevance_scores[:k]))\n",
    "\n",
    "def ndcg_at_k(predicted, ground_truth, k):\n",
    "    relevance_scores = [1 if sec in ground_truth else 0 for sec in predicted]\n",
    "    dcg = dcg_at_k(relevance_scores, k)\n",
    "    ideal_relevance = sorted(relevance_scores, reverse=True)\n",
    "    idcg = dcg_at_k(ideal_relevance, k)\n",
    "    return dcg / idcg if idcg > 0 else 0.0"
   ]
  },
  {
   "cell_type": "code",
   "execution_count": 51,
   "id": "39d5d095",
   "metadata": {},
   "outputs": [],
   "source": [
    "def evaluate_scenarios(service, test_df, top_k=5):\n",
    "    precision_scores = []\n",
    "    recall_scores = []\n",
    "    ndcg_scores = []\n",
    "\n",
    "    for _, row in tqdm(test_df.iterrows(), total=len(test_df), desc=\"Evaluating\"):\n",
    "        query = row[\"text\"]\n",
    "        ipc_sections = [s.strip() for s in row[\"sections\"].split(\",\")]\n",
    "        bns_mapped_sections = {ipc_to_bns[s] for s in ipc_sections if s in ipc_to_bns}\n",
    "        ground_truth = bns_mapped_sections\n",
    "        print (ground_truth)\n",
    "\n",
    "        top_sections = service.get_top_scenarios(query, history=[], top_k=top_k, validate_with_api=False)\n",
    "        predicted = [str(sec[\"Section Number\"]) for sec in top_sections]\n",
    "        print (predicted)\n",
    "\n",
    "        hits = sum(1 for sec in predicted if sec in ground_truth)\n",
    "        precision = hits / top_k\n",
    "        recall = hits / len(ground_truth)\n",
    "        ndcg = ndcg_at_k(predicted, ground_truth, top_k)\n",
    "\n",
    "        precision_scores.append(precision)\n",
    "        recall_scores.append(recall)\n",
    "        ndcg_scores.append(ndcg)\n",
    "\n",
    "    results = {\n",
    "        \"Mean Precision@k\": round(sum(precision_scores) / len(test_df), 4),\n",
    "        \"Mean Recall@k\": round(sum(recall_scores) / len(test_df), 4),\n",
    "        \"Mean NDCG@k\": round(sum(ndcg_scores) / len(test_df), 4),\n",
    "    }\n",
    "\n",
    "    return results, precision_scores, recall_scores, ndcg_scores"
   ]
  },
  {
   "cell_type": "code",
   "execution_count": 52,
   "id": "55c7f560",
   "metadata": {},
   "outputs": [
    {
     "data": {
      "application/vnd.jupyter.widget-view+json": {
       "model_id": "f1d98fcdacd2473a8e17cc8f539789d6",
       "version_major": 2,
       "version_minor": 0
      },
      "text/plain": [
       "Evaluating:   0%|          | 0/10 [00:00<?, ?it/s]"
      ]
     },
     "metadata": {},
     "output_type": "display_data"
    },
    {
     "name": "stdout",
     "output_type": "stream",
     "text": [
      "{'318', '60'}\n",
      "['248', '229', '112', '148', '212']\n",
      "{'345', '116', '316', '86'}\n",
      "['80', '82', '64', '69', '8']\n",
      "{'319', '60'}\n",
      "['8', '127', '358', '229', '248']\n",
      "{'351', '191', '115', '117'}\n",
      "['248', '229', '199', '127', '211']\n",
      "{'327', '221', '121', '132', '189'}\n",
      "['127', '8', '248', '208', '193']\n",
      "{'318', '60', '340', '338', '345', '1'}\n",
      "['358', '8', '248', '229', '127']\n",
      "{'105'}\n",
      "['109', '8', '358', '106', '127']\n",
      "{'3', '296', '115'}\n",
      "['127', '8', '206', '229', '248']\n",
      "{'223', '340'}\n",
      "['303', '8', '243', '317', '248']\n",
      "{'309', '109', '115', '191', '193', '329', '190'}\n",
      "['248', '353', '229', '197', '199']\n"
     ]
    }
   ],
   "source": [
    "scenario_service = ScenarioService(dataset_path=\"../data/Updated_BNS_Dataset.csv\")\n",
    "results, precisions, recalls, mrrs = evaluate_scenarios(scenario_service, test_df, top_k=5)"
   ]
  }
 ],
 "metadata": {
  "kernelspec": {
   "display_name": ".venv",
   "language": "python",
   "name": "python3"
  },
  "language_info": {
   "codemirror_mode": {
    "name": "ipython",
    "version": 3
   },
   "file_extension": ".py",
   "mimetype": "text/x-python",
   "name": "python",
   "nbconvert_exporter": "python",
   "pygments_lexer": "ipython3",
   "version": "3.11.3"
  }
 },
 "nbformat": 4,
 "nbformat_minor": 5
}
